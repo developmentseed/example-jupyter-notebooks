{
 "cells": [
  {
   "cell_type": "code",
   "execution_count": null,
   "metadata": {},
   "outputs": [],
   "source": [
    "import folium\n",
    "import geopandas as gpd\n",
    "from IPython.display import display, Image\n",
    "import requests\n",
    "import warnings\n",
    "warnings.filterwarnings('ignore')"
   ]
  },
  {
   "cell_type": "markdown",
   "metadata": {},
   "source": [
    "# ATL08 v003 Entwine Point Tiles (EPT)\n",
    "\n",
    "This notebook demonstrates using the ATL08 IceSAT-2 [Entwine Point Tile (EPT)](https://entwine.io/entwine-point-tile.html) store.\n",
    "\n",
    "### What are Entwine Point Tiles?\n",
    "\n",
    "Entwine Point Tiles are a cloud-optimized octree data format for storing and visualizing massive point clouds efficiently. This format is gaining a lot of momentum and interest with an active development community.\n"
   ]
  },
  {
   "cell_type": "markdown",
   "metadata": {},
   "source": [
    "### Visualizing with potree\n",
    "\n",
    "Potree is a tool for visualizing EPT stores directly.\n",
    "\n",
    "[potree.entwine.io: ATL08](https://potree.entwine.io/data/view.html?r=%22https://cumulus-map-internal.s3.amazonaws.com/file-staging/nasa-map/ATL08_ARD-beta___001/global/ept%22)"
   ]
  },
  {
   "cell_type": "code",
   "execution_count": null,
   "metadata": {},
   "outputs": [],
   "source": [
    "img_src = \"potree-global.gif\"\n",
    "Image(url = img_src)"
   ]
  },
  {
   "cell_type": "markdown",
   "metadata": {},
   "source": [
    "### Visualizing with the 3D Tiles Service (OGC)\n",
    "\n",
    "Cesium is a 3D tool which can be used to visualize point clouds alongside 2D data using a 3D Tiles Service.\n",
    "\n",
    "* [3D Tiles API Endpoint](https://api.maap.xyz/api/3d-tiles/ATL08_ARD-beta___001/global/ept/ept-tileset/tileset.json)\n",
    "* [Demo using Cesium](http://cesium.entwine.io/?url=https://api.maap.xyz/api/3d-tiles/ATL08_ARD-beta___001/global/ept/ept-tileset/tileset.json)"
   ]
  },
  {
   "cell_type": "code",
   "execution_count": null,
   "metadata": {},
   "outputs": [],
   "source": [
    "img_src = \"cesium-global.gif\"\n",
    "Image(url = img_src)"
   ]
  },
  {
   "cell_type": "markdown",
   "metadata": {},
   "source": [
    "## Querying ATL08 EPT using the OGC Features API\n",
    "\n",
    "We can use the features service for some basic querying of the EPT Store.\n",
    "\n",
    "### Query By Bounding Box"
   ]
  },
  {
   "cell_type": "code",
   "execution_count": null,
   "metadata": {},
   "outputs": [],
   "source": [
    "# Format a request to the API\n",
    "api_url = \"https://obnrh8ozt0.execute-api.us-east-2.amazonaws.com/collections/Global/items\"\n",
    "\n",
    "# bbox should be defined as xmin, xmax, (min value z), ymin, ymax, (max value z)\n",
    "# Make a request for a bounding box over Peru\n",
    "bbox=\"-77,-26,300,-73,0,500\"\n",
    "\n",
    "payload = {\n",
    "    \"f\": \"json\",\n",
    "    \"limit\": 100,\n",
    "    \"bbox\": bbox,\n",
    "}\n",
    "\n",
    "r = requests.get(api_url, params = payload)"
   ]
  },
  {
   "cell_type": "code",
   "execution_count": null,
   "metadata": {},
   "outputs": [],
   "source": [
    "# Get the results directly into a Geo Data Frame (saving to file not required but recommended)\n",
    "api_geojson = r.json()\n",
    "api_geojson.keys()\n",
    "adf = gpd.GeoDataFrame.from_features(api_geojson[\"features\"], crs='epsg:4326')\n",
    "adf.head()"
   ]
  },
  {
   "cell_type": "code",
   "execution_count": null,
   "metadata": {},
   "outputs": [],
   "source": [
    "m = folium.Map(\n",
    "    location=[adf.centroid[0].y, adf.centroid[0].x],\n",
    "    zoom_start=10,\n",
    "    tiles='Stamen Terrain'\n",
    ")\n",
    "\n",
    "\n",
    "folium.GeoJson(\n",
    "    adf,\n",
    "    name = \"geojson\"\n",
    ").add_to(m)\n",
    "\n",
    "m"
   ]
  },
  {
   "cell_type": "markdown",
   "metadata": {},
   "source": [
    "### Query by Granule Id"
   ]
  },
  {
   "cell_type": "code",
   "execution_count": null,
   "metadata": {},
   "outputs": [],
   "source": [
    "granule_id = 'ATL08_20181014035224_02370107_003_01'\n",
    "payload = {\n",
    "    \"f\": \"json\",\n",
    "    \"origin\": granule_id,\n",
    "}\n",
    "\n",
    "r = requests.get(api_url, params = payload)\n",
    "api_geojson = r.json()\n",
    "api_geojson.keys()\n",
    "adf = gpd.GeoDataFrame.from_features(api_geojson[\"features\"], crs='epsg:4326')\n",
    "adf.head()"
   ]
  },
  {
   "cell_type": "markdown",
   "metadata": {},
   "source": [
    "## More query options with pdal\n",
    "\n",
    "The [documentation](https://maap-project.readthedocs.io/en/latest/query/testing-ept-stores.html#PDAL-Pipelines) provides additional options for how to query with PDAL (Point Cloud Data Abstraction Library)."
   ]
  },
  {
   "cell_type": "markdown",
   "metadata": {},
   "source": [
    "# Thank You!\n",
    "\n",
    "**Big thanks to** Aaron Kaulfus, Alex Mandel, Chuck Daniels, David Bitner, Dai Hai Ton That, Kaylin Bugbee, Slesa Adhikari, Sam Ayers and Seth Vincent with whom none of this would be possible."
   ]
  }
 ],
 "metadata": {
  "kernelspec": {
   "display_name": "Python 3",
   "language": "python",
   "name": "python3"
  },
  "language_info": {
   "codemirror_mode": {
    "name": "ipython",
    "version": 3
   },
   "file_extension": ".py",
   "mimetype": "text/x-python",
   "name": "python",
   "nbconvert_exporter": "python",
   "pygments_lexer": "ipython3",
   "version": "3.8.5-final"
  }
 },
 "nbformat": 4,
 "nbformat_minor": 4
}