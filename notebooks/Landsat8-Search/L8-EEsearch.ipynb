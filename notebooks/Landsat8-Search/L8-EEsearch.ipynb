{
 "cells": [
  {
   "cell_type": "markdown",
   "metadata": {},
   "source": [
    "# Landsat 8 Collection 2 Search\n",
    "\n",
    "This noteboook demonstrates searching for Landsat 8 scenes available given query parameters. Knowing how many scenes are available allows for planning processing resources required for a given project.\n",
    "\n",
    "Steps:\n",
    "1. Import required libraries\n",
    "2. Function for querying Earth Explorer\n",
    "3. Define the query\n",
    "4. Submit the query\n",
    "5. Check the results"
   ]
  },
  {
   "cell_type": "code",
   "execution_count": null,
   "metadata": {},
   "outputs": [],
   "source": []
  }
 ],
 "metadata": {
  "kernelspec": {
   "display_name": "Python [conda env:geo]",
   "language": "python",
   "name": "conda-env-geo-py"
  },
  "language_info": {
   "codemirror_mode": {
    "name": "ipython",
    "version": 3
   },
   "file_extension": ".py",
   "mimetype": "text/x-python",
   "name": "python",
   "nbconvert_exporter": "python",
   "pygments_lexer": "ipython3",
   "version": "3.8.3"
  }
 },
 "nbformat": 4,
 "nbformat_minor": 4
}
