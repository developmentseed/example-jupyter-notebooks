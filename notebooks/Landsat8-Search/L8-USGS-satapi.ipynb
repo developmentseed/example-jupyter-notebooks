{
 "cells": [
  {
   "cell_type": "code",
   "execution_count": 1,
   "metadata": {},
   "outputs": [],
   "source": [
    "import os\n",
    "import json\n",
    "import requests\n",
    "import datetime\n",
    "\n",
    "sat_api_url = \"https://landsatlook.usgs.gov/sat-api\""
   ]
  },
  {
   "cell_type": "code",
   "execution_count": 2,
   "metadata": {},
   "outputs": [],
   "source": [
    "min_cloud = 0\n",
    "max_cloud = 50\n",
    "\n",
    "date_min=\"2015-03-01\"\n",
    "date_max=\"2015-09-30\"\n",
    "\n",
    "# format datatime for query\n",
    "start = datetime.datetime.strptime(date_min, \"%Y-%m-%d\").strftime(\"%Y-%m-%dT00:00:00Z\")\n",
    "end = datetime.datetime.strptime(date_max, \"%Y-%m-%d\").strftime(\"%Y-%m-%dT23:59:59Z\")\n",
    "\n",
    "\n",
    "query = {\n",
    "    \"time\": f\"{start}/{end}\",\n",
    "    \"query\": {\n",
    "        \"bbox\":[-180,40,180,80],\n",
    "        \"eo:cloud_cover\": {\"gte\": min_cloud, \"lt\": max_cloud},\n",
    "        \"collection\":{\"eq\": \"landsat-c2l2-sr\"}\n",
    "    },\n",
    "    \"limit\": 500 # We limit to 500 items per Page (requests) to make sure sat-api doesn't fail to return big features collection\n",
    "}"
   ]
  },
  {
   "cell_type": "code",
   "execution_count": 3,
   "metadata": {},
   "outputs": [],
   "source": [
    "headers = {\n",
    "        \"Content-Type\": \"application/json\",\n",
    "        \"Accept-Encoding\": \"gzip\",\n",
    "        \"Accept\": \"application/geo+json\",\n",
    "    }\n",
    "\n",
    "url = f\"{sat_api_url}/stac/search\"\n",
    "data = requests.post(url, headers=headers, json=query).json()"
   ]
  },
  {
   "cell_type": "code",
   "execution_count": 7,
   "metadata": {},
   "outputs": [
    {
     "name": "stdout",
     "output_type": "stream",
     "text": [
      "144640 scenes\n"
     ]
    }
   ],
   "source": [
    "# this is the maximum possible\n",
    "scenes = data['meta']['found']\n",
    "print(f'{scenes} scenes')"
   ]
  },
  {
   "cell_type": "code",
   "execution_count": 9,
   "metadata": {},
   "outputs": [
    {
     "name": "stdout",
     "output_type": "stream",
     "text": [
      "723200 scenes\n"
     ]
    }
   ],
   "source": [
    "# for all years, estimate\n",
    "scenes_all = scenes * 5\n",
    "print(f'{scenes_all} scenes')"
   ]
  },
  {
   "cell_type": "code",
   "execution_count": 15,
   "metadata": {},
   "outputs": [
    {
     "name": "stdout",
     "output_type": "stream",
     "text": [
      "247,187.5 GB\n"
     ]
    }
   ],
   "source": [
    "# estimate of 70 MB per band, convert to TB\n",
    "# scenes * bands * 70 * years\n",
    "size = scenes_all * 5 * (70/1024)\n",
    "print(f'{size:,} GB')"
   ]
  },
  {
   "cell_type": "code",
   "execution_count": 16,
   "metadata": {},
   "outputs": [
    {
     "name": "stdout",
     "output_type": "stream",
     "text": [
      "$0.29 $4,943.75\n"
     ]
    }
   ],
   "source": [
    "# Assuming requesting each file entirely once\n",
    "cost_request = round((scenes_all / 1000) * 0.0004, 2)\n",
    "cost_bandwidth = round(size * 0.02, 2)\n",
    "print(f'${cost_request} ${cost_bandwidth:,}')"
   ]
  },
  {
   "cell_type": "code",
   "execution_count": null,
   "metadata": {},
   "outputs": [],
   "source": [
    "# TODO:\n",
    "# Limit to path/rows over land, reduce number of months included\n",
    "# Actually query for the months each year, currently just assumes each year is roughly the same\n",
    "# Limit to over land only"
   ]
  }
 ],
 "metadata": {
  "kernelspec": {
   "display_name": "Python [conda env:geo]",
   "language": "python",
   "name": "conda-env-geo-py"
  },
  "language_info": {
   "codemirror_mode": {
    "name": "ipython",
    "version": 3
   },
   "file_extension": ".py",
   "mimetype": "text/x-python",
   "name": "python",
   "nbconvert_exporter": "python",
   "pygments_lexer": "ipython3",
   "version": "3.8.3"
  }
 },
 "nbformat": 4,
 "nbformat_minor": 4
}
