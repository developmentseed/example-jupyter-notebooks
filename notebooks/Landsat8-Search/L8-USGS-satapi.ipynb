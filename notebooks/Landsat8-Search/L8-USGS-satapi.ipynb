{
 "cells": [
  {
   "cell_type": "code",
   "execution_count": 1,
   "metadata": {},
   "outputs": [],
   "source": [
    "import os\n",
    "import json\n",
    "import requests\n",
    "import datetime\n",
    "\n",
    "sat_api_url = \"https://landsatlook.usgs.gov/sat-api\""
   ]
  },
  {
   "cell_type": "code",
   "execution_count": 21,
   "metadata": {},
   "outputs": [],
   "source": [
    "min_cloud = 0\n",
    "max_cloud = 50\n",
    "\n",
    "date_min=\"2015-03-01\"\n",
    "date_max=\"2015-09-30\"\n",
    "\n",
    "# format datatime for query\n",
    "start_date = datetime.datetime.strptime(date_min, \"%Y-%m-%d\")\n",
    "end_date = datetime.datetime.strptime(date_max, \"%Y-%m-%d\") \n",
    "start = start_date.strftime(\"%Y-%m-%dT00:00:00Z\")\n",
    "end = end_date.strftime(\"%Y-%m-%dT23:59:59Z\")\n",
    "\n",
    "\n",
    "query = {\n",
    "    \"time\": f\"{start}/{end}\",\n",
    "    \"query\": {\n",
    "        \"bbox\":[-180,40,180,80],\n",
    "        \"eo:cloud_cover\": {\"gte\": min_cloud, \"lt\": max_cloud},\n",
    "        \"collection\":{\"eq\": \"landsat-c2l2-sr\"}\n",
    "    },\n",
    "    \"limit\": 500 # We limit to 500 items per Page (requests) to make sure sat-api doesn't fail to return big features collection\n",
    "}"
   ]
  },
  {
   "cell_type": "code",
   "execution_count": 38,
   "metadata": {},
   "outputs": [],
   "source": [
    "def query_satapi(query):\n",
    "    headers = {\n",
    "            \"Content-Type\": \"application/json\",\n",
    "            \"Accept-Encoding\": \"gzip\",\n",
    "            \"Accept\": \"application/geo+json\",\n",
    "        }\n",
    "\n",
    "    url = f\"{sat_api_url}/stac/search\"\n",
    "    data = requests.post(url, headers=headers, json=query).json()\n",
    "    \n",
    "    return data"
   ]
  },
  {
   "cell_type": "code",
   "execution_count": 7,
   "metadata": {},
   "outputs": [
    {
     "name": "stdout",
     "output_type": "stream",
     "text": [
      "144640 scenes\n"
     ]
    }
   ],
   "source": [
    "# this is the maximum possible\n",
    "data = query_satapi(query)\n",
    "scenes = data['meta']['found']\n",
    "print(f'{scenes} scenes')"
   ]
  },
  {
   "cell_type": "code",
   "execution_count": 28,
   "metadata": {},
   "outputs": [
    {
     "name": "stdout",
     "output_type": "stream",
     "text": [
      "3616000 scenes\n"
     ]
    }
   ],
   "source": [
    "# for all  scences * years * bands, estimate\n",
    "scenes_all = scenes * 5 * 5\n",
    "print(f'{scenes_all} scenes')"
   ]
  },
  {
   "cell_type": "code",
   "execution_count": 31,
   "metadata": {},
   "outputs": [
    {
     "name": "stdout",
     "output_type": "stream",
     "text": [
      "247,187.5 GB\n"
     ]
    }
   ],
   "source": [
    "# estimate of 70 MB per band, convert to TB\n",
    "# scenes * 70 MB\n",
    "size = scenes_all * (70/1024)\n",
    "print(f'{size:,} GB')"
   ]
  },
  {
   "cell_type": "code",
   "execution_count": 32,
   "metadata": {},
   "outputs": [
    {
     "name": "stdout",
     "output_type": "stream",
     "text": [
      "$1.45 $4,943.75\n"
     ]
    }
   ],
   "source": [
    "# Assuming requesting each file entirely once\n",
    "cost_request = round((scenes_all / 1000) * 0.0004, 2)\n",
    "cost_bandwidth = round(size * 0.02, 2)\n",
    "print(f'${cost_request} ${cost_bandwidth:,}')"
   ]
  },
  {
   "cell_type": "markdown",
   "metadata": {},
   "source": [
    "## Actual Queries\n",
    "\n",
    "This section runs a query for each year getting the actual matches. While we return only the scene counts, the same query results if parsed and paged through could return the actual list of scenes for retrieval."
   ]
  },
  {
   "cell_type": "code",
   "execution_count": 36,
   "metadata": {},
   "outputs": [],
   "source": [
    "def query_year(year):\n",
    "    '''Given the year, finds the number of scenes matching the query and returns it.'''\n",
    "    date_min = '-'.join([str(year), \"03-01\"])\n",
    "    date_max = '-'.join([str(year), \"09-30\"])\n",
    "    start_date = datetime.datetime.strptime(date_min, \"%Y-%m-%d\")\n",
    "    end_date = datetime.datetime.strptime(date_max, \"%Y-%m-%d\") \n",
    "    start = start_date.strftime(\"%Y-%m-%dT00:00:00Z\")\n",
    "    end = end_date.strftime(\"%Y-%m-%dT23:59:59Z\")\n",
    "    \n",
    "    query = {\n",
    "    \"time\": f\"{start}/{end}\",\n",
    "    \"query\": {\n",
    "        \"bbox\":[-180,40,180,80],\n",
    "        \"eo:cloud_cover\": {\"gte\": min_cloud, \"lt\": max_cloud},\n",
    "        \"collection\":{\"eq\": \"landsat-c2l2-sr\"}\n",
    "        },\n",
    "    \"limit\": 500 # We limit to 500 items per Page (requests) to make sure sat-api doesn't fail to return big features collection\n",
    "    }\n",
    "    \n",
    "    data = query_satapi(query)\n",
    "    scenes = data['meta']['found']\n",
    "    \n",
    "    return scenes"
   ]
  },
  {
   "cell_type": "code",
   "execution_count": 39,
   "metadata": {},
   "outputs": [],
   "source": [
    "scene_totals = [query_year(year) for year in range(2015,2020)]"
   ]
  },
  {
   "cell_type": "code",
   "execution_count": 43,
   "metadata": {},
   "outputs": [
    {
     "data": {
      "text/plain": [
       "33105"
      ]
     },
     "execution_count": 43,
     "metadata": {},
     "output_type": "execute_result"
    }
   ],
   "source": [
    "# compare actual to estimated scenes\n",
    "(sum(scene_totals) * 5) - scenes_all"
   ]
  },
  {
   "cell_type": "code",
   "execution_count": null,
   "metadata": {},
   "outputs": [],
   "source": [
    "# TODO:\n",
    "# Limit to over land only"
   ]
  }
 ],
 "metadata": {
  "kernelspec": {
   "display_name": "Python [conda env:geo]",
   "language": "python",
   "name": "conda-env-geo-py"
  },
  "language_info": {
   "codemirror_mode": {
    "name": "ipython",
    "version": 3
   },
   "file_extension": ".py",
   "mimetype": "text/x-python",
   "name": "python",
   "nbconvert_exporter": "python",
   "pygments_lexer": "ipython3",
   "version": "3.8.3"
  }
 },
 "nbformat": 4,
 "nbformat_minor": 4
}
