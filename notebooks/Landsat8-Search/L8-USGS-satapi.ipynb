{
 "cells": [
  {
   "cell_type": "code",
   "execution_count": 1,
   "metadata": {},
   "outputs": [],
   "source": [
    "import os\n",
    "import json\n",
    "import requests\n",
    "import datetime\n",
    "\n",
    "sat_api_url = \"https://landsatlook.usgs.gov/sat-api\""
   ]
  },
  {
   "cell_type": "code",
   "execution_count": 2,
   "metadata": {},
   "outputs": [],
   "source": [
    "def query_satapi(query):\n",
    "    headers = {\n",
    "            \"Content-Type\": \"application/json\",\n",
    "            \"Accept-Encoding\": \"gzip\",\n",
    "            \"Accept\": \"application/geo+json\",\n",
    "        }\n",
    "\n",
    "    url = f\"{sat_api_url}/stac/search\"\n",
    "    data = requests.post(url, headers=headers, json=query).json()\n",
    "    \n",
    "    return data"
   ]
  },
  {
   "cell_type": "code",
   "execution_count": 4,
   "metadata": {},
   "outputs": [],
   "source": [
    "min_cloud = 0\n",
    "max_cloud = 50\n",
    "\n",
    "date_min=\"2015-03-01\"\n",
    "date_max=\"2015-09-30\"\n",
    "\n",
    "# format datatime for query\n",
    "start_date = datetime.datetime.strptime(date_min, \"%Y-%m-%d\")\n",
    "end_date = datetime.datetime.strptime(date_max, \"%Y-%m-%d\") \n",
    "start = start_date.strftime(\"%Y-%m-%dT00:00:00Z\")\n",
    "end = end_date.strftime(\"%Y-%m-%dT23:59:59Z\")\n"
   ]
  },
  {
   "cell_type": "code",
   "execution_count": 13,
   "metadata": {},
   "outputs": [],
   "source": [
    "# Get a small sample first\n",
    "sample_query = {\n",
    "    \"time\": f\"{start}/{end}\",\n",
    "    \"bbox\": [-101,40,-100,80],\n",
    "    \"limit\": 10\n",
    "}\n",
    "sample = query_satapi(sample_query)\n"
   ]
  },
  {
   "cell_type": "code",
   "execution_count": 5,
   "metadata": {},
   "outputs": [
    {
     "name": "stdout",
     "output_type": "stream",
     "text": [
      "dict_keys(['collection', 'eo:gsd', 'eo:platform', 'eo:off_nadir', 'datetime', 'eo:cloud_cover', 'eo:sun_azimuth', 'eo:sun_elevation', 'eo:instrument', 'landsat:cloud_cover_land', 'landsat:wrs_type', 'landsat:wrs_path', 'landsat:wrs_row', 'landsat:scene_id', 'landsat:collection_category', 'landsat:collection_number', 'eo:bands'])\n"
     ]
    },
    {
     "data": {
      "text/plain": [
       "166.84936113"
      ]
     },
     "execution_count": 5,
     "metadata": {},
     "output_type": "execute_result"
    }
   ],
   "source": [
    "# Take a look at the sample\n",
    "# drill down to see what properties are available\n",
    "sample.keys()\n",
    "sample['features'][0].keys()\n",
    "print(sample['features'][0]['properties'].keys())\n",
    "# eo:sun_azimuth and eo:sun_elevation\n",
    "sample['features'][0]['properties']['eo:sun_azimuth']\n"
   ]
  },
  {
   "cell_type": "code",
   "execution_count": 9,
   "metadata": {},
   "outputs": [
    {
     "data": {
      "text/plain": [
       "[{'rel': 'next',\n",
       "  'title': 'Next page of results',\n",
       "  'href': 'https://landsatlook.usgs.gov/sat-api/stac/search?datetime=%222015-03-01T00%3A00%3A00Z%2F2015-09-30T23%3A59%3A59Z%22&query=%7B%22bbox%22%3A%5B-180%2C40%2C180%2C80%5D%2C%22eo%3Acloud_cover%22%3A%7B%22gte%22%3A0%2C%22lt%22%3A50%7D%2C%22collection%22%3A%7B%22eq%22%3A%22landsat-c2l2-sr%22%7D%7D&page=2&limit=500'}]"
      ]
     },
     "execution_count": 9,
     "metadata": {},
     "output_type": "execute_result"
    }
   ],
   "source": [
    "data['links']"
   ]
  },
  {
   "cell_type": "code",
   "execution_count": 14,
   "metadata": {},
   "outputs": [],
   "source": [
    "# Testing collection filter\n",
    "\n",
    "full_query = {\n",
    "    \"time\": f\"{start}/{end}\",\n",
    "    \"bbox\": [-180, 40, 180, 80],\n",
    "    \"query\": { \n",
    "        \"collection\":{\"eq\": \"landsat-c2l1\"},\n",
    "    },\n",
    "    \"limit\": 5 # We limit to 500 items per Page (requests) to make sure sat-api doesn't fail to return big features collection\n",
    "}\n",
    "\n",
    "data = query_satapi(full_query)"
   ]
  },
  {
   "cell_type": "code",
   "execution_count": 13,
   "metadata": {},
   "outputs": [
    {
     "output_type": "execute_result",
     "data": {
      "text/plain": [
       "0"
      ]
     },
     "metadata": {},
     "execution_count": 13
    }
   ],
   "source": [
    "data['meta']['found']"
   ]
  },
  {
   "cell_type": "code",
   "execution_count": 43,
   "metadata": {},
   "outputs": [],
   "source": [
    "# set the min and max sun azimuth if you want to filter\n",
    "min_az = 100\n",
    "max_az = 160\n",
    "\n",
    "full_query = {\n",
    "    \"time\": f\"{start}/{end}\",\n",
    "    \"bbox\": [-180, 40, 180, 80],\n",
    "    \"query\": {\n",
    "        #\"eo:sun_azimuth\": {\"gte\": min_az, \"lt\": max_az}, #Remove comment to enable\n",
    "        \"eo:platform\": {\"eq\": \"LANDSAT_8\"},\n",
    "        \"eo:cloud_cover\": {\"gte\": min_cloud, \"lt\": max_cloud},\n",
    "        \"collection\":{\"eq\": \"landsat-c2l2-sr\"},\n",
    "        \"landsat:collection_category\":{\"eq\": \"T1\"}\n",
    "    },\n",
    "    \"limit\": 5 # We limit to 500 items per Page (requests) to make sure sat-api doesn't fail to return big features collection\n",
    "}\n",
    "\n",
    "# this is the maximum possible\n",
    "data = query_satapi(full_query)\n"
   ]
  },
  {
   "cell_type": "code",
   "execution_count": 49,
   "metadata": {},
   "outputs": [
    {
     "name": "stdout",
     "output_type": "stream",
     "text": [
      "26741 scenes\n"
     ]
    }
   ],
   "source": [
    "scenes = data['meta']['found']\n",
    "print(f'{scenes} scenes')"
   ]
  },
  {
   "cell_type": "code",
   "execution_count": 50,
   "metadata": {},
   "outputs": [
    {
     "name": "stdout",
     "output_type": "stream",
     "text": [
      "668525 scenes\n"
     ]
    }
   ],
   "source": [
    "# for all  scences * years * bands, estimate\n",
    "scenes_all = scenes * 5 * 5\n",
    "print(f'{scenes_all} scenes')"
   ]
  },
  {
   "cell_type": "code",
   "execution_count": 51,
   "metadata": {},
   "outputs": [
    {
     "name": "stdout",
     "output_type": "stream",
     "text": [
      "45,699.951171875 GB\n"
     ]
    }
   ],
   "source": [
    "# estimate of 70 MB per band, convert to TB\n",
    "# scenes * 70 MB\n",
    "size = scenes_all * (70/1024)\n",
    "print(f'{size:,} GB')"
   ]
  },
  {
   "cell_type": "code",
   "execution_count": 52,
   "metadata": {},
   "outputs": [
    {
     "name": "stdout",
     "output_type": "stream",
     "text": [
      "$0.27 $914.0\n"
     ]
    }
   ],
   "source": [
    "# Assuming requesting each file entirely once\n",
    "cost_request = round((scenes_all / 1000) * 0.0004, 2)\n",
    "cost_bandwidth = round(size * 0.02, 2)\n",
    "print(f'${cost_request} ${cost_bandwidth:,}')"
   ]
  },
  {
   "cell_type": "code",
   "execution_count": 15,
   "metadata": {},
   "outputs": [],
   "source": [
    "def estimate_costs(scenes, bands = 5, years = 5):\n",
    "    data = {}\n",
    "    data['scene'] = scenes\n",
    "    data['bands'] = bands\n",
    "    data['years'] = years\n",
    "    data['scenes_tot'] = scenes * bands * years\n",
    "    #print(f'{data[\"scenes_tot\"]} bands X scenes X years')\n",
    "    data['size'] = data['scenes_tot'] * (90/1024) #90 MB per band per scene estimate is a more conservative estimate\n",
    "    #print(f'Size {data[\"size\"]:,} GB')\n",
    "    data['cost_request'] = round((data['scenes_tot'] / 1000) * 0.0004, 2)\n",
    "    data['cost_bandwidth'] = round(data['size'] * 0.02, 2)\n",
    "    #print(f'Cost ${data[\"cost_request\"]} ${data[\"cost_bandwidth\"]:,}')\n",
    "    \n",
    "    return data"
   ]
  },
  {
   "cell_type": "markdown",
   "metadata": {},
   "source": [
    "## Actual Queries\n",
    "\n",
    "This section runs a query for each year getting the actual matches. While we return only the scene counts, the same query results if parsed and paged through could return the actual list of scenes for retrieval."
   ]
  },
  {
   "cell_type": "code",
   "execution_count": 36,
   "metadata": {},
   "outputs": [],
   "source": [
    "def query_year(year):\n",
    "    '''Given the year, finds the number of scenes matching the query and returns it.'''\n",
    "    date_min = '-'.join([str(year), \"03-01\"])\n",
    "    date_max = '-'.join([str(year), \"09-30\"])\n",
    "    start_date = datetime.datetime.strptime(date_min, \"%Y-%m-%d\")\n",
    "    end_date = datetime.datetime.strptime(date_max, \"%Y-%m-%d\") \n",
    "    start = start_date.strftime(\"%Y-%m-%dT00:00:00Z\")\n",
    "    end = end_date.strftime(\"%Y-%m-%dT23:59:59Z\")\n",
    "    \n",
    "    query = {\n",
    "    \"time\": f\"{start}/{end}\",\n",
    "    \"query\": {\n",
    "        \"bbox\":[-180,40,180,80],\n",
    "        \"eo:cloud_cover\": {\"gte\": min_cloud, \"lt\": max_cloud},\n",
    "        \"collection\":{\"eq\": \"landsat-c2l2-sr\"}\n",
    "        },\n",
    "    \"limit\": 500 # We limit to 500 items per Page (requests) to make sure sat-api doesn't fail to return big features collection\n",
    "    }\n",
    "    \n",
    "    data = query_satapi(query)\n",
    "    scenes = data['meta']['found']\n",
    "    \n",
    "    return scenes"
   ]
  },
  {
   "cell_type": "code",
   "execution_count": 39,
   "metadata": {},
   "outputs": [],
   "source": [
    "scene_totals = [query_year(year) for year in range(2015,2020)]"
   ]
  },
  {
   "cell_type": "code",
   "execution_count": 43,
   "metadata": {},
   "outputs": [
    {
     "data": {
      "text/plain": [
       "33105"
      ]
     },
     "execution_count": 43,
     "metadata": {},
     "output_type": "execute_result"
    }
   ],
   "source": [
    "# compare actual to estimated scenes\n",
    "(sum(scene_totals) * 5) - scenes_all"
   ]
  },
  {
   "cell_type": "code",
   "execution_count": null,
   "metadata": {},
   "outputs": [],
   "source": [
    "# TODO:\n",
    "# Limit to over land only"
   ]
  },
  {
   "cell_type": "code",
   "execution_count": 21,
   "metadata": {},
   "outputs": [
    {
     "output_type": "stream",
     "name": "stdout",
     "text": [
      "   scene  bands  years  scenes_tot      size  cost_request  cost_bandwidth\n0     17      5      1          85  7.470703           0.0            0.15\n1     17      5      1          85  7.470703           0.0            0.15\n2     15      5      1          75  6.591797           0.0            0.13\n"
     ]
    },
    {
     "output_type": "execute_result",
     "data": {
      "text/plain": [
       "scene              49.000000\n",
       "bands              15.000000\n",
       "years               3.000000\n",
       "scenes_tot        245.000000\n",
       "size               21.533203\n",
       "cost_request        0.000000\n",
       "cost_bandwidth      0.430000\n",
       "dtype: float64"
      ]
     },
     "metadata": {},
     "execution_count": 21
    }
   ],
   "source": [
    "import pandas as pd\n",
    "cost_estimate = pd.DataFrame.from_dict([estimate_costs(scenes, 5, 1) for scenes in [17,17,15]])\n",
    "print(cost_estimate.head())\n",
    "cost_estimate.sum()\n"
   ]
  }
 ],
 "metadata": {
  "kernelspec": {
   "display_name": "Python 3",
   "language": "python",
   "name": "python3"
  },
  "language_info": {
   "codemirror_mode": {
    "name": "ipython",
    "version": 3
   },
   "file_extension": ".py",
   "mimetype": "text/x-python",
   "name": "python",
   "nbconvert_exporter": "python",
   "pygments_lexer": "ipython3",
   "version": "3.8.3-final"
  }
 },
 "nbformat": 4,
 "nbformat_minor": 4
}